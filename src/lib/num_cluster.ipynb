{
 "cells": [
  {
   "cell_type": "code",
   "execution_count": 71,
   "metadata": {},
   "outputs": [],
   "source": [
    "%matplotlib inline\n",
    "import pyclustering\n",
    "from pyclustering.cluster import xmeans, gmeans\n",
    "import numpy as np\n",
    "import matplotlib\n",
    "import matplotlib.pyplot as plt\n",
    "from sklearn.cluster import KMeans\n",
    "from sklearn.datasets import make_blobs\n",
    "from map_cluster import get_data"
   ]
  },
  {
   "cell_type": "code",
   "execution_count": 72,
   "metadata": {},
   "outputs": [],
   "source": [
    "def xmeans_map(df, X, Y):\n",
    "    cust_array = np.array([df[X].tolist(), df[Y].tolist()]).T\n",
    "    initializer = xmeans.kmeans_plusplus_initializer(data=cust_array, amount_centers=2)\n",
    "    initial_centers = initializer.initialize()\n",
    "    xm = xmeans.xmeans(cust_array, initial_centers).process()\n",
    "\n",
    "    clusters = xm.get_clusters()\n",
    "    # pyclustering.utils.draw_clusters(cust_array, clusters)\n",
    "    # get a number of clusters\n",
    "    amount = len(clusters)\n",
    "    print(\"Amount of clusters:\", amount)\n",
    "\n",
    "    for i in range(0, len(clusters)):\n",
    "        new_clusters = clusters.copy()\n",
    "\n",
    "        new_initializer = xmeans.kmeans_plusplus_initializer(data=new_clusters, amount_centers=2)\n",
    "        new_initial_centers = new_initializer.initialize()\n",
    "        xm = xmeans.xmeans(cust_array, initial_centers).process()\n",
    "\n",
    "        clusters = xm.get_clusters()\n",
    "        print(\"New Amount of clusters:\", len(clusters))\n",
    "\n"
   ]
  },
  {
   "cell_type": "code",
   "execution_count": 73,
   "metadata": {},
   "outputs": [
    {
     "name": "stdout",
     "output_type": "stream",
     "text": [
      "Amount of clusters: 7\n"
     ]
    },
    {
     "name": "stderr",
     "output_type": "stream",
     "text": [
      "/home/shiro/workspace/garbage_collection/env/lib/python3.10/site-packages/pyclustering/cluster/center_initializer.py:182: VisibleDeprecationWarning: Creating an ndarray from ragged nested sequences (which is a list-or-tuple of lists-or-tuples-or ndarrays with different lengths or shapes) is deprecated. If you meant to do this, you must specify 'dtype=object' when creating the ndarray.\n",
      "  self.__data = numpy.array(data)\n"
     ]
    },
    {
     "ename": "ValueError",
     "evalue": "operands could not be broadcast together with shapes (7,) (1267,) ",
     "output_type": "error",
     "traceback": [
      "\u001b[0;31m---------------------------------------------------------------------------\u001b[0m",
      "\u001b[0;31mValueError\u001b[0m                                Traceback (most recent call last)",
      "Cell \u001b[0;32mIn [73], line 2\u001b[0m\n\u001b[1;32m      1\u001b[0m df \u001b[39m=\u001b[39m get_data(\u001b[39m'\u001b[39m\u001b[39m../../data/garbage_place.xlsx\u001b[39m\u001b[39m'\u001b[39m)\n\u001b[0;32m----> 2\u001b[0m \u001b[39mprint\u001b[39m(xmeans_map(df, \u001b[39m'\u001b[39;49m\u001b[39mX\u001b[39;49m\u001b[39m'\u001b[39;49m, \u001b[39m'\u001b[39;49m\u001b[39mY\u001b[39;49m\u001b[39m'\u001b[39;49m))\n",
      "Cell \u001b[0;32mIn [72], line 17\u001b[0m, in \u001b[0;36mxmeans_map\u001b[0;34m(df, X, Y)\u001b[0m\n\u001b[1;32m     14\u001b[0m new_clusters \u001b[39m=\u001b[39m clusters\u001b[39m.\u001b[39mcopy()\n\u001b[1;32m     16\u001b[0m new_initializer \u001b[39m=\u001b[39m xmeans\u001b[39m.\u001b[39mkmeans_plusplus_initializer(data\u001b[39m=\u001b[39mnew_clusters, amount_centers\u001b[39m=\u001b[39m\u001b[39m2\u001b[39m)\n\u001b[0;32m---> 17\u001b[0m new_initial_centers \u001b[39m=\u001b[39m new_initializer\u001b[39m.\u001b[39;49minitialize()\n\u001b[1;32m     18\u001b[0m xm \u001b[39m=\u001b[39m xmeans\u001b[39m.\u001b[39mxmeans(cust_array, initial_centers)\u001b[39m.\u001b[39mprocess()\n\u001b[1;32m     20\u001b[0m clusters \u001b[39m=\u001b[39m xm\u001b[39m.\u001b[39mget_clusters()\n",
      "File \u001b[0;32m~/workspace/garbage_collection/env/lib/python3.10/site-packages/pyclustering/cluster/center_initializer.py:352\u001b[0m, in \u001b[0;36mkmeans_plusplus_initializer.initialize\u001b[0;34m(self, **kwargs)\u001b[0m\n\u001b[1;32m    350\u001b[0m \u001b[39m# For each next center\u001b[39;00m\n\u001b[1;32m    351\u001b[0m \u001b[39mfor\u001b[39;00m _ \u001b[39min\u001b[39;00m \u001b[39mrange\u001b[39m(\u001b[39m1\u001b[39m, \u001b[39mself\u001b[39m\u001b[39m.\u001b[39m__amount):\n\u001b[0;32m--> 352\u001b[0m     index_point \u001b[39m=\u001b[39m \u001b[39mself\u001b[39;49m\u001b[39m.\u001b[39;49m__get_next_center(centers)\n\u001b[1;32m    353\u001b[0m     centers\u001b[39m.\u001b[39mappend(index_point)\n\u001b[1;32m    354\u001b[0m     \u001b[39mself\u001b[39m\u001b[39m.\u001b[39m__free_indexes\u001b[39m.\u001b[39mremove(index_point)\n",
      "File \u001b[0;32m~/workspace/garbage_collection/env/lib/python3.10/site-packages/pyclustering/cluster/center_initializer.py:251\u001b[0m, in \u001b[0;36mkmeans_plusplus_initializer.__get_next_center\u001b[0;34m(self, centers)\u001b[0m\n\u001b[1;32m    240\u001b[0m \u001b[39mdef\u001b[39;00m \u001b[39m__get_next_center\u001b[39m(\u001b[39mself\u001b[39m, centers):\n\u001b[1;32m    241\u001b[0m     \u001b[39m\"\"\"!\u001b[39;00m\n\u001b[1;32m    242\u001b[0m \u001b[39m    @brief Calculates the next center for the data.\u001b[39;00m\n\u001b[1;32m    243\u001b[0m \n\u001b[0;32m   (...)\u001b[0m\n\u001b[1;32m    248\u001b[0m \n\u001b[1;32m    249\u001b[0m \u001b[39m    \"\"\"\u001b[39;00m\n\u001b[0;32m--> 251\u001b[0m     distances \u001b[39m=\u001b[39m \u001b[39mself\u001b[39;49m\u001b[39m.\u001b[39;49m__calculate_shortest_distances(\u001b[39mself\u001b[39;49m\u001b[39m.\u001b[39;49m__data, centers)\n\u001b[1;32m    253\u001b[0m     \u001b[39mif\u001b[39;00m \u001b[39mself\u001b[39m\u001b[39m.\u001b[39m__candidates \u001b[39m==\u001b[39m kmeans_plusplus_initializer\u001b[39m.\u001b[39mFARTHEST_CENTER_CANDIDATE:\n\u001b[1;32m    254\u001b[0m         \u001b[39mfor\u001b[39;00m index_point \u001b[39min\u001b[39;00m centers:\n",
      "File \u001b[0;32m~/workspace/garbage_collection/env/lib/python3.10/site-packages/pyclustering/cluster/center_initializer.py:231\u001b[0m, in \u001b[0;36mkmeans_plusplus_initializer.__calculate_shortest_distances\u001b[0;34m(self, data, centers)\u001b[0m\n\u001b[1;32m    228\u001b[0m \u001b[39mfor\u001b[39;00m index_center \u001b[39min\u001b[39;00m \u001b[39mrange\u001b[39m(\u001b[39mlen\u001b[39m(centers)):\n\u001b[1;32m    229\u001b[0m     center \u001b[39m=\u001b[39m data[centers[index_center]]\n\u001b[0;32m--> 231\u001b[0m     dataset_differences[index_center] \u001b[39m=\u001b[39m numpy\u001b[39m.\u001b[39msum(numpy\u001b[39m.\u001b[39msquare(data \u001b[39m-\u001b[39;49m center), axis\u001b[39m=\u001b[39m\u001b[39m1\u001b[39m)\u001b[39m.\u001b[39mT\n\u001b[1;32m    233\u001b[0m \u001b[39mwith\u001b[39;00m warnings\u001b[39m.\u001b[39mcatch_warnings():\n\u001b[1;32m    234\u001b[0m     numpy\u001b[39m.\u001b[39mwarnings\u001b[39m.\u001b[39mfilterwarnings(\u001b[39m'\u001b[39m\u001b[39mignore\u001b[39m\u001b[39m'\u001b[39m, \u001b[39mr\u001b[39m\u001b[39m'\u001b[39m\u001b[39mAll-NaN (slice|axis) encountered\u001b[39m\u001b[39m'\u001b[39m)\n",
      "\u001b[0;31mValueError\u001b[0m: operands could not be broadcast together with shapes (7,) (1267,) "
     ]
    }
   ],
   "source": [
    "df = get_data('data/garbage_place.xlsx')\n",
    "print(xmeans_map(df, 'X', 'Y'))"
   ]
  }
 ],
 "metadata": {
  "kernelspec": {
   "display_name": "env",
   "language": "python",
   "name": "python3"
  },
  "language_info": {
   "codemirror_mode": {
    "name": "ipython",
    "version": 3
   },
   "file_extension": ".py",
   "mimetype": "text/x-python",
   "name": "python",
   "nbconvert_exporter": "python",
   "pygments_lexer": "ipython3",
   "version": "3.10.8 (main, Nov  1 2022, 14:18:21) [GCC 12.2.0]"
  },
  "orig_nbformat": 4,
  "vscode": {
   "interpreter": {
    "hash": "ded35a2404b5848eaebfee734c553fc20e6bc2fd7f86773295d0af8a744a8056"
   }
  }
 },
 "nbformat": 4,
 "nbformat_minor": 2
}
